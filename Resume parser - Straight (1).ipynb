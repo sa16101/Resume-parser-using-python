{
 "cells": [
  {
   "cell_type": "markdown",
   "id": "1155b4a4",
   "metadata": {},
   "source": [
    "# Introduction:\n",
    "Resume parsing is a valuable tool used in various real-life scenarios to simplify and streamline the hiring process. Imagine you're a busy hiring manager or a human resources professional responsible for reviewing countless resumes. It can be quite overwhelming and time-consuming to manually read through each document and extract the relevant information. This is where a resume parser comes in.\n",
    "\n",
    "A resume parser is like a smart assistant that helps automate the initial screening of resumes. It uses advanced algorithms and natural language processing techniques to analyze the content of a resume and extract key details such as contact information, education history, work experience, skills, and more. This information is then organized into a structured format, making it easier for recruiters to evaluate candidates efficiently.\n",
    "\n",
    "With a resume parser, you can quickly scan through a large pool of resumes and identify the most suitable candidates based on specific criteria. It allows you to search for particular skills, experience levels, educational backgrounds, or any other qualifications you require for the job. The parser also eliminates the possibility of human error and ensures consistent and accurate data extraction.\n",
    "\n",
    "Furthermore, resume parsing can be integrated with applicant tracking systems (ATS) or other recruitment software. This integration enables seamless data transfer and eliminates the need for manual data entry, saving a significant amount of time and reducing administrative burdens. The parsed data can be easily sorted, filtered, and compared, enabling recruiters to shortlist candidates efficiently and make informed decisions.\n",
    "\n",
    "In summary, resume parsing technology acts as a valuable assistant for hiring professionals, making the resume screening process more efficient, accurate, and manageable. It simplifies the initial stages of recruitment, allowing recruiters to focus their time and energy on evaluating the most promising candidates and conducting more meaningful interactions during interviews and assessments."
   ]
  },
  {
   "cell_type": "code",
   "execution_count": 5,
   "id": "c5f2b323-a469-4ef3-9662-881be8e64df5",
   "metadata": {},
   "outputs": [
    {
     "name": "stdout",
     "output_type": "stream",
     "text": [
      "Collecting pdfminer.six\n",
      "  Downloading pdfminer_six-20250506-py3-none-any.whl.metadata (4.2 kB)\n",
      "Requirement already satisfied: charset-normalizer>=2.0.0 in c:\\users\\dell\\anaconda3\\lib\\site-packages (from pdfminer.six) (3.3.2)\n",
      "Requirement already satisfied: cryptography>=36.0.0 in c:\\users\\dell\\anaconda3\\lib\\site-packages (from pdfminer.six) (43.0.0)\n",
      "Requirement already satisfied: cffi>=1.12 in c:\\users\\dell\\anaconda3\\lib\\site-packages (from cryptography>=36.0.0->pdfminer.six) (1.17.1)\n",
      "Requirement already satisfied: pycparser in c:\\users\\dell\\anaconda3\\lib\\site-packages (from cffi>=1.12->cryptography>=36.0.0->pdfminer.six) (2.21)\n",
      "Downloading pdfminer_six-20250506-py3-none-any.whl (5.6 MB)\n",
      "   ---------------------------------------- 0.0/5.6 MB ? eta -:--:--\n",
      "   --- ------------------------------------ 0.5/5.6 MB 3.4 MB/s eta 0:00:02\n",
      "   --------- ------------------------------ 1.3/5.6 MB 3.9 MB/s eta 0:00:02\n",
      "   ---------------- ----------------------- 2.4/5.6 MB 4.1 MB/s eta 0:00:01\n",
      "   ------------------------ --------------- 3.4/5.6 MB 4.5 MB/s eta 0:00:01\n",
      "   --------------------------------- ------ 4.7/5.6 MB 4.9 MB/s eta 0:00:01\n",
      "   ---------------------------------------  5.5/5.6 MB 5.1 MB/s eta 0:00:01\n",
      "   ---------------------------------------- 5.6/5.6 MB 4.1 MB/s eta 0:00:00\n",
      "Installing collected packages: pdfminer.six\n",
      "Successfully installed pdfminer.six-20250506\n"
     ]
    }
   ],
   "source": [
    "!pip install pdfminer.six\n"
   ]
  },
  {
   "cell_type": "code",
   "execution_count": 10,
   "id": "f67d15f8",
   "metadata": {
    "scrolled": true
   },
   "outputs": [
    {
     "name": "stdout",
     "output_type": "stream",
     "text": [
      "SHAIBA ALI\n",
      "\n",
      "Address     : \n",
      "Phone No. :\n",
      "Email Id.     : \n",
      "Linkedin     :   \n",
      "\n",
      "116/99 kaiserbagh Ghasiyari Mandi Lucknow\n",
      "7570919305\n",
      "sa1610166@gmail.com\n",
      "linkedin.com/in/shaiba-ali-5a4339256\n",
      "\n",
      "SUMMARY\n",
      "\n",
      "Data  Analyst  skilled  in  Python,  Power  BI,  and  Excel,  passionate  about  transforming  raw  data  into\n",
      "meaningful  insights  to  drive  strategic  decisions.  Seeking  an  opportunity  to  leverage  analytical  skills  and\n",
      "technical expertise to solve complex business problems and optimize performance.\n",
      "PROJECTS\n",
      "\n",
      "Sales Performance Dashboard (Power BI)\n",
      "Designed and developed an interactive e-commerce sales dashboard using Power BI.\n",
      "Visualized key metrics such as total sales amount, profit, quantity sold, and average order value.\n",
      "Implemented bar charts and donut charts to analyze performance by state, customer, category, and payment\n",
      "mode. Enabled month-wise profit tracking to support data-driven business decisions.\n",
      "Playstore Data Analytics (Python)\n",
      "Analyzed Google Play Store data using Excel, Python, and Power BI to visualize trends in app ratings,\n",
      "downloads, and categories.\n",
      "\n",
      "EXPERIENCE \n",
      "\n",
      "Intership of Data Analytics at Nullclass\n",
      "Completed Training at Nullclass for Data Analytics \n",
      "\n",
      "2 June 2025- 13 June 2025\n",
      "                        2 June 2025\n",
      "\n",
      "EDUCATION\n",
      "\n",
      " Masters in Computer Application (appearing) from Maharishi University. \n",
      " Bachelor of Science in Computer science from Lucknow university. \n",
      " Intermediate from UP board.\n",
      " High school from UP board.                                       \n",
      "\n",
      "2026\n",
      "2024\n",
      "2020\n",
      "2018\n",
      "\n",
      "SKILLS\n",
      "\n",
      "Problem Solving\n",
      "Quick Learner\n",
      "Canva\n",
      "Time Management\n",
      "Team Collaboration\n",
      "\n",
      "ADDITIONAL INFORMATION\n",
      "\n",
      "Technical Skills:\n",
      "\n",
      "Certifications:\n",
      "\n",
      "Programming Languages: Python, SQL\n",
      "Data Analysis Tools: Pandas, NumPy, Excel\n",
      "Databases: MySQL\n",
      "Visualization: Power BI\n",
      "Other Tools: Git, Jupyter Notebooks\n",
      "\n",
      "Languages: \n",
      "\n",
      "English, Hindi, Urdu \n",
      "\n",
      "Awards/Activities: \n",
      "\n",
      "Participated Smart India Hackathon\n",
      "Partcipated in MUIT Codethon\n",
      "\n",
      "Google Data Analytics Professional Certificate\n",
      "SQL for Data Science\n",
      "Power BI\n",
      "Data Analytics Course by Tutedude\n",
      "Java Programming by The digital Adda\n",
      "Google Play Store Data Analytics Project \n",
      "\n",
      "\f",
      "\n"
     ]
    }
   ],
   "source": [
    "from pdfminer.high_level import extract_text\n",
    "\n",
    "def extract_text_from_pdf(pdf_path):\n",
    "    return extract_text(pdf_path)\n",
    "\n",
    "if __name__ == '__main__':\n",
    "    print(extract_text_from_pdf(r\"C:\\Users\\dell\\Downloads\\resume.pdf\"))\n"
   ]
  },
  {
   "cell_type": "markdown",
   "id": "73ff19bb",
   "metadata": {},
   "source": [
    "# Exctracting Name from Resume:\n",
    "\n",
    "The code snippet demonstrates a function that extracts text from a PDF file using pdfminer library. It then utilizes a regular expression pattern to extract a potential name from the extracted text. If a name is found, it is printed; otherwise, a \"Name not found\" message is displayed. This code can be used as a starting point for resume parsing tasks to extract names from resumes."
   ]
  },
  {
   "cell_type": "code",
   "execution_count": 83,
   "id": "82355882",
   "metadata": {},
   "outputs": [
    {
     "name": "stdout",
     "output_type": "stream",
     "text": [
      "✅ Name : Shaiba Ali\n"
     ]
    }
   ],
   "source": [
    "import re\n",
    "from pdfminer.high_level import extract_text\n",
    "\n",
    "# Extract all text from the PDF\n",
    "def extract_text_from_pdf(pdf_path):\n",
    "    return extract_text(pdf_path)\n",
    "\n",
    "# Extract the candidate's name based on how it's written in your resume\n",
    "def extract_name_from_resume(text):\n",
    "    lines = text.strip().split('\\n')\n",
    "\n",
    "    for line in lines:\n",
    "        line = line.strip()\n",
    "\n",
    "        # Stop checking once we reach the address section\n",
    "        if 'address' in line.lower():\n",
    "            break\n",
    "\n",
    "        # Match two capitalized words like \"Shaiba Ali\"\n",
    "        if re.match(r\"^[A-Z][a-z]+\\s[A-Z][a-z]+$\", line):\n",
    "            return line\n",
    "\n",
    "        # Match uppercase full name like \"SHAIBA ALI\"\n",
    "        if re.match(r\"^[A-Z\\s]+$\", line) and len(line.split()) == 2:\n",
    "            return line.title()  # Convert to \"Shaiba Ali\"\n",
    "\n",
    "    return None\n",
    "\n",
    "# Main block\n",
    "if __name__ == '__main__':\n",
    "    text = extract_text_from_pdf(r\"C:\\Users\\dell\\Downloads\\resume.pdf\")\n",
    "    \n",
    "    name = extract_name_from_resume(text)\n",
    "\n",
    "    if name:\n",
    "        print(\"✅ Name :\", name)\n",
    "    else:\n",
    "        print(\"❌ Name not found\")\n",
    "\n",
    "\n",
    "\n"
   ]
  },
  {
   "cell_type": "markdown",
   "id": "90c97198",
   "metadata": {},
   "source": [
    "# Exctract Contact Number:\n",
    "\n",
    "The provided code snippet defines a function to extract text from a PDF file using pdfminer. It also includes another function to extract a potential contact number from the extracted text using a regular expression pattern. The code then calls these functions to extract the contact number from a specific resume file. If a contact number is found, it is printed; otherwise, a \"Contact Number not found\" message is displayed. This code can be used as a starting point for extracting contact numbers from resumes."
   ]
  },
  {
   "cell_type": "code",
   "execution_count": 22,
   "id": "5a1ea1cd",
   "metadata": {},
   "outputs": [
    {
     "name": "stdout",
     "output_type": "stream",
     "text": [
      "Contact Number: 7570919305\n"
     ]
    }
   ],
   "source": [
    "def extract_text_from_pdf(pdf_path):\n",
    "    return extract_text(pdf_path)\n",
    "\n",
    "def extract_contact_number_from_resume(text):\n",
    "    contact_number = None\n",
    "\n",
    "    # Use regex pattern to find a potential contact number\n",
    "    pattern = r\"\\b(?:\\+?\\d{1,3}[-.\\s]?)?\\(?\\d{3}\\)?[-.\\s]?\\d{3}[-.\\s]?\\d{4}\\b\"\n",
    "    match = re.search(pattern, text)\n",
    "    if match:\n",
    "        contact_number = match.group()\n",
    "\n",
    "    return contact_number\n",
    "\n",
    "if __name__ == '__main__':\n",
    "    text = extract_text_from_pdf(r\"C:\\Users\\dell\\Downloads\\resume.pdf\")\n",
    "\n",
    "    contact_number = extract_contact_number_from_resume(text)\n",
    "\n",
    "    if contact_number:\n",
    "        print(\"Contact Number:\", contact_number)\n",
    "    else:\n",
    "        print(\"Contact Number not found\")"
   ]
  },
  {
   "cell_type": "markdown",
   "id": "c3499079",
   "metadata": {},
   "source": [
    "# Exctract Email Id : \n",
    "\n",
    "The provided code snippet defines a function extract_text_from_pdf() to extract text from a PDF file using pdfminer. It also includes another function extract_email_from_resume() to extract a potential email address from the extracted text using a regular expression pattern.\n",
    "\n",
    "The code then calls these functions to extract the email address from a specific resume file. If an email address is found, it is printed as \"Email: [email address]\"; otherwise, a \"Email not found\" message is displayed.\n",
    "\n",
    "This code can be used as a starting point for extracting email addresses from resumes."
   ]
  },
  {
   "cell_type": "code",
   "execution_count": 33,
   "id": "92f0f6d6",
   "metadata": {},
   "outputs": [
    {
     "name": "stdout",
     "output_type": "stream",
     "text": [
      "Email: sa1610166@gmail.com\n"
     ]
    }
   ],
   "source": [
    "\n",
    "def extract_text_from_pdf(pdf_path):\n",
    "    return extract_text(pdf_path)\n",
    "\n",
    "def extract_email_from_resume(text):\n",
    "    email = None\n",
    "\n",
    "    # Use regex pattern to find a potential email address\n",
    "    pattern = r\"\\b[A-Za-z0-9._%+-]+@[A-Za-z0-9.-]+\\.[A-Za-z]{2,}\\b\"\n",
    "    match = re.search(pattern, text)\n",
    "    if match:\n",
    "        email = match.group()\n",
    "\n",
    "    return email\n",
    "\n",
    "if __name__ == '__main__':\n",
    "    text = extract_text_from_pdf(r\"C:\\Users\\dell\\Downloads\\resume.pdf\")\n",
    "    email = extract_email_from_resume(text)\n",
    "\n",
    "    if email:\n",
    "        print(\"Email:\", email)\n",
    "    else:\n",
    "        print(\"Email not found\")\n"
   ]
  },
  {
   "cell_type": "code",
   "execution_count": 39,
   "id": "9abb92e9-c65f-4782-81fa-c13f42f8802d",
   "metadata": {},
   "outputs": [
    {
     "name": "stdout",
     "output_type": "stream",
     "text": [
      "Extracted Skills: ['Python', 'Data Analysis', 'SQL']\n"
     ]
    }
   ],
   "source": [
    "from pdfminer.high_level import extract_text\n",
    "import re\n",
    "\n",
    "def extract_text_from_pdf(pdf_path):\n",
    "    return extract_text(pdf_path)\n",
    "\n",
    "def extract_skills_from_resume(text, skills_list):\n",
    "    skills = []\n",
    "\n",
    "    # Search for skills in the resume text\n",
    "    for skill in skills_list:\n",
    "        pattern = r\"\\b{}\\b\".format(re.escape(skill))\n",
    "        match = re.search(pattern, text, re.IGNORECASE)\n",
    "        if match:\n",
    "            skills.append(skill)\n",
    "\n",
    "    return skills\n",
    "\n",
    "if __name__ == '__main__':\n",
    "    text = extract_text_from_pdf(r\"C:\\Users\\dell\\Downloads\\resume.pdf\")\n",
    "\n",
    "    # List of predefined skills\n",
    "    skills_list = [\n",
    "        'Python', 'Data Analysis', 'Machine Learning', 'Communication',\n",
    "        'Project Management', 'Deep Learning', 'SQL', \n",
    "    ]\n",
    "\n",
    "    extracted_skills = extract_skills_from_resume(text, skills_list)\n",
    "\n",
    "    print(\"Extracted Skills:\", extracted_skills)\n"
   ]
  },
  {
   "cell_type": "markdown",
   "id": "3540ffd7",
   "metadata": {},
   "source": [
    "# Exctracting Skills:\n",
    "\n",
    "The provided code snippet includes a function extract_text_from_pdf() that extracts text from a PDF file using pdfminer. Additionally, it defines a function extract_skills_from_resume() that takes the extracted text and a list of predefined skills as input.\n",
    "\n",
    "The extract_skills_from_resume() function searches for each skill in the provided list within the resume text using regular expressions. If a skill is found, it is added to the skills list. Finally, the function returns the list of extracted skills.\n",
    "\n",
    "In the code's main section, the extract_text_from_pdf() function is called to extract the text from a specific resume file. A predefined list of skills is defined, and the extract_skills_from_resume() function is invoked with the extracted text and skills list as arguments. The extracted skills are then printed as \"Skills: [extracted skills]\" if any skills are found, otherwise, a \"No skills found\" message is displayed.\n",
    "\n",
    "This code can be utilized to extract skills from resumes by providing a list of predefined skills and the resume text. It serves as a basic framework for skill extraction and can be extended or customized to meet specific requirements."
   ]
  },
  {
   "cell_type": "code",
   "execution_count": 53,
   "id": "b12ebead-be5d-402a-8ecc-ff98465607fe",
   "metadata": {},
   "outputs": [
    {
     "name": "stdout",
     "output_type": "stream",
     "text": [
      "🎓 Education:\n",
      "- Masters in Computer Application\n",
      "- Bachelor of Science\n",
      "- Intermediate\n",
      "- High school\n",
      "\n",
      "💼 Skills:\n",
      "- Python\n",
      "- SQL\n",
      "- Pandas\n",
      "- NumPy\n",
      "- Excel\n",
      "- MySQL\n",
      "- Power BI\n",
      "- Git\n",
      "- Jupyter Notebooks\n",
      "- Problem Solving\n",
      "- Quick Learner\n",
      "- Time Management\n",
      "- Team Collaboration\n",
      "- Canva\n"
     ]
    }
   ],
   "source": [
    "from pdfminer.high_level import extract_text\n",
    "\n",
    "def extract_text_from_pdf(pdf_path):\n",
    "    return extract_text(pdf_path)\n",
    "\n",
    "def extract_education_from_resume(text):\n",
    "    education_keywords = [\n",
    "        \"Masters in Computer Application\",\n",
    "        \"Bachelor of Science\",\n",
    "        \"Intermediate\",\n",
    "        \"High school\"\n",
    "    ]\n",
    "    \n",
    "    found = []\n",
    "    for keyword in education_keywords:\n",
    "        if keyword.lower() in text.lower():\n",
    "            found.append(keyword)\n",
    "    \n",
    "    return found\n",
    "\n",
    "def extract_skills_from_resume(text):\n",
    "    skills_list = [\n",
    "        'Python', 'SQL', 'Pandas', 'NumPy', 'Excel', 'MySQL',\n",
    "        'Power BI', 'Git', 'Jupyter Notebooks',\n",
    "        'Problem Solving', 'Quick Learner', 'Time Management',\n",
    "        'Team Collaboration', 'Canva'\n",
    "    ]\n",
    "\n",
    "    found_skills = []\n",
    "    for skill in skills_list:\n",
    "        if skill.lower() in text.lower():\n",
    "            found_skills.append(skill)\n",
    "\n",
    "    return found_skills\n",
    "\n",
    "# Run\n",
    "text = extract_text_from_pdf(r\"C:\\Users\\dell\\Downloads\\resume.pdf\")\n",
    "\n",
    "education = extract_education_from_resume(text)\n",
    "skills = extract_skills_from_resume(text)\n",
    "\n",
    "print(\"🎓 Education:\")\n",
    "for edu in education:\n",
    "    print(\"-\", edu)\n",
    "\n",
    "print(\"\\n💼 Skills:\")\n",
    "for skill in skills:\n",
    "    print(\"-\", skill)\n",
    "\n"
   ]
  },
  {
   "cell_type": "markdown",
   "id": "44df8258",
   "metadata": {},
   "source": [
    "# Exctracting Education:\n",
    "\n",
    "The provided code snippet consists of a function extract_text_from_pdf() that extracts text from a PDF file using the pdfminer library. Additionally, it includes a function extract_education_from_resume() that takes the extracted text as input.\n",
    "\n",
    "The extract_education_from_resume() function utilizes a regular expression pattern to search for education information in the resume text. The pattern is designed to match various education degrees such as BSc, B.Tech, M.Tech, Ph.D., Bachelor's, Master's, and Ph.D., followed by the corresponding field of study.\n",
    "\n",
    "Within the code's main section, the extract_text_from_pdf() function is invoked to extract the text from a specific resume file. Then, the extract_education_from_resume() function is called with the extracted text as an argument. If any education information is found, it is appended to the education list. Finally, the list of extracted education details is printed as \"Education: [extracted_education]\" if education information is found. Otherwise, a \"No education information found\" message is displayed.\n",
    "\n",
    "This code provides a basic framework for extracting education information from resumes using regular expressions. It can be further customized or expanded to handle additional patterns or extract more specific details related to education."
   ]
  },
  {
   "cell_type": "code",
   "execution_count": 61,
   "id": "3a80890c",
   "metadata": {},
   "outputs": [
    {
     "name": "stdout",
     "output_type": "stream",
     "text": [
      "🎓 Education:\n",
      "- Masters in Computer Application – Maharishi University (Appearing)\n",
      "- Bachelor of Science in Computer Science – Lucknow University\n",
      "- Intermediate – UP Board\n",
      "- High School – UP Board\n"
     ]
    }
   ],
   "source": [
    "import re\n",
    "from pdfminer.high_level import extract_text\n",
    "\n",
    "def extract_text_from_pdf(pdf_path):\n",
    "    return extract_text(pdf_path)\n",
    "\n",
    "def extract_education_from_resume(text):\n",
    "    # Custom matching for Shaiba's education structure\n",
    "    edu_list = []\n",
    "\n",
    "    if \"Masters in Computer Application\" in text:\n",
    "        edu_list.append(\"Masters in Computer Application – Maharishi University (Appearing)\")\n",
    "    if \"Bachelor of Science\" in text:\n",
    "        edu_list.append(\"Bachelor of Science in Computer Science – Lucknow University\")\n",
    "    if \"Intermediate from UP board\" in text:\n",
    "        edu_list.append(\"Intermediate – UP Board\")\n",
    "    if \"High school from UP board\" in text:\n",
    "        edu_list.append(\"High School – UP Board\")\n",
    "\n",
    "    return edu_list\n",
    "\n",
    "# Run it\n",
    "if __name__ == '__main__':\n",
    "    text = extract_text_from_pdf(r\"C:\\Users\\dell\\Downloads\\resume.pdf\")\n",
    "    extracted_education = extract_education_from_resume(text)\n",
    "\n",
    "    print(\"🎓 Education:\")\n",
    "    for edu in extracted_education:\n",
    "        print(\"-\", edu)\n"
   ]
  },
  {
   "cell_type": "code",
   "execution_count": 77,
   "id": "dedc044f",
   "metadata": {},
   "outputs": [
    {
     "name": "stdout",
     "output_type": "stream",
     "text": [
      "🎓 Institutes Found:\n",
      "- Maharishi University\n",
      "- Lucknow University\n",
      "- UP Board\n"
     ]
    }
   ],
   "source": [
    "import re\n",
    "from pdfminer.high_level import extract_text\n",
    "\n",
    "def extract_text_from_pdf(pdf_path):\n",
    "    return extract_text(pdf_path)\n",
    "\n",
    "def extract_college_names(text):\n",
    "    college_names = []\n",
    "\n",
    "    if re.search(r\"maharishi university\", text, re.IGNORECASE):\n",
    "        college_names.append(\"Maharishi University\")\n",
    "    if re.search(r\"lucknow university\", text, re.IGNORECASE):\n",
    "        college_names.append(\"Lucknow University\")\n",
    "    if re.search(r\"up board\", text, re.IGNORECASE):\n",
    "        college_names.append(\"UP Board\")\n",
    "\n",
    "    return college_names\n",
    "\n",
    "# Run this\n",
    "if __name__ == '__main__':\n",
    "    text = extract_text_from_pdf(r\"C:\\Users\\dell\\Downloads\\resume.pdf\")\n",
    "    \n",
    "    colleges = extract_college_names(text)\n",
    "    \n",
    "    if colleges:\n",
    "        print(\"🎓 Institutes Found:\")\n",
    "        for c in colleges:\n",
    "            print(\"-\", c)\n",
    "    else:\n",
    "        print(\"No college/institute name found.\")\n",
    "\n",
    "        \n",
    "\n"
   ]
  },
  {
   "cell_type": "code",
   "execution_count": 75,
   "id": "fd98bce9",
   "metadata": {},
   "outputs": [
    {
     "name": "stdout",
     "output_type": "stream",
     "text": [
      "🎓 Data Science / Analytics Education or Certifications:\n",
      "- Playstore Data Analytics (Python)\n",
      "- Intership of Data Analytics at Nullclass\n",
      "- Completed Training at Nullclass for Data Analytics\n",
      "- Google Data Analytics Professional Certificate\n",
      "- SQL for Data Science\n",
      "- Data Analytics Course by Tutedude\n",
      "- Google Play Store Data Analytics Project\n"
     ]
    }
   ],
   "source": [
    "import re\n",
    "from pdfminer.high_level import extract_text\n",
    "\n",
    "def extract_text_from_pdf(pdf_path):\n",
    "    return extract_text(pdf_path)\n",
    "\n",
    "def extract_data_science_education(text):\n",
    "    lines = text.split('\\n')\n",
    "    data_science_edu = []\n",
    "\n",
    "    keywords = ['Data Science', 'Data Analytics', 'Analytics', 'Data Scientist']\n",
    "\n",
    "    for line in lines:\n",
    "        for keyword in keywords:\n",
    "            if keyword.lower() in line.lower():\n",
    "                if line.strip() not in data_science_edu:\n",
    "                    data_science_edu.append(line.strip())\n",
    "\n",
    "    return data_science_edu\n",
    "\n",
    "# Run this\n",
    "if __name__ == '__main__':\n",
    "    text = extract_text_from_pdf(r\"C:\\Users\\dell\\Downloads\\resume.pdf\")\n",
    "\n",
    "    extracted_education = extract_data_science_education(text)\n",
    "    if extracted_education:\n",
    "        print(\"🎓 Data Science / Analytics Education or Certifications:\")\n",
    "        for edu in extracted_education:\n",
    "            print(\"-\", edu)\n",
    "    else:\n",
    "        print(\"No data science education found.\")\n"
   ]
  },
  {
   "cell_type": "markdown",
   "id": "eb81c782",
   "metadata": {},
   "source": [
    "# Conclusion:\n",
    "\n",
    "In conclusion, the provided code snippets demonstrate a basic implementation of a resume parser. Each code snippet focuses on extracting specific information from a resume, such as name, contact number, email, skills, and education.\n",
    "\n",
    "The resume parser utilizes various techniques, including regular expressions and text extraction from PDF files. It showcases how these techniques can be applied to automate the extraction of important details from resumes.\n",
    "\n",
    "However, it's important to note that the code snippets provide a starting point and can be further enhanced and customized based on specific requirements. For example, additional patterns or algorithms can be implemented to improve the accuracy of information extraction.\n",
    "\n",
    "Resume parsing plays a vital role in automating the initial screening process for job applications. By extracting key details from resumes, it saves time and effort for recruiters and allows for efficient filtering of candidates.\n",
    "\n",
    "As technology advances, resume parsing algorithms can be further refined to handle more complex resume formats, languages, and diverse information extraction requirements. This will help in building more sophisticated and accurate resume parsing systems.\n",
    "\n",
    "Overall, the provided code snippets serve as a foundation for developing a resume parser and demonstrate the potential of automating the extraction of essential information from resumes, streamlining the recruitment process, and improving efficiency in candidate evaluation."
   ]
  },
  {
   "cell_type": "code",
   "execution_count": null,
   "id": "085324be",
   "metadata": {},
   "outputs": [],
   "source": []
  }
 ],
 "metadata": {
  "kernelspec": {
   "display_name": "Python 3 (ipykernel)",
   "language": "python",
   "name": "python3"
  },
  "language_info": {
   "codemirror_mode": {
    "name": "ipython",
    "version": 3
   },
   "file_extension": ".py",
   "mimetype": "text/x-python",
   "name": "python",
   "nbconvert_exporter": "python",
   "pygments_lexer": "ipython3",
   "version": "3.12.7"
  }
 },
 "nbformat": 4,
 "nbformat_minor": 5
}
